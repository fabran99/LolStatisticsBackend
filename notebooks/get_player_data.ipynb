{
 "cells": [
  {
   "cell_type": "code",
   "execution_count": 1,
   "metadata": {},
   "outputs": [],
   "source": [
    "from api.riot_api_routes import *\n",
    "from api.variables import SERVER_ROUTES, DIVISIONS, TIERS, GAME_TYPE,MAIN_GAMEMODE,RANKED_QUEUES"
   ]
  },
  {
   "cell_type": "code",
   "execution_count": 2,
   "metadata": {},
   "outputs": [],
   "source": [
    "import pandas as pd\n",
    "from time import time"
   ]
  },
  {
   "cell_type": "markdown",
   "metadata": {},
   "source": [
    "## Traigo 20 players de cada division, de cada liga de cada server"
   ]
  },
  {
   "cell_type": "code",
   "execution_count": 3,
   "metadata": {},
   "outputs": [
    {
     "name": "stdout",
     "output_type": "stream",
     "text": [
      "Buscando jugadores en LAS\n",
      "Buscando jugadores en LAN\n",
      "Buscando jugadores en KR\n",
      "Buscando jugadores en JP\n",
      "Buscando jugadores en BR\n",
      "Buscando jugadores en NA\n",
      "Buscando jugadores en EUN\n",
      "Buscando jugadores en EUW\n",
      "Buscando jugadores en OC\n",
      "Buscando jugadores en TR\n",
      "Buscando jugadores en RU\n"
     ]
    }
   ],
   "source": [
    "challengers={}\n",
    "masters={}\n",
    "grandmaster={}\n",
    "leagues={}\n",
    "for server in SERVER_ROUTES.keys():\n",
    "    print(\"Buscando jugadores en {}\".format(server))\n",
    "    challengers[server]=get_player_list_challenger(server)\n",
    "    masters[server]=get_player_list_master(server)\n",
    "    grandmaster[server]=get_player_list_grandmaster(server)\n",
    "    for tier in TIERS:\n",
    "        leagues[tier]={}\n",
    "        for division in DIVISIONS:\n",
    "            leagues[tier][division]=get_player_list_by_division(tier,division,server)    "
   ]
  },
  {
   "cell_type": "code",
   "execution_count": 6,
   "metadata": {},
   "outputs": [],
   "source": [
    "complete_data = {\n",
    "    \"challengers\":challengers,\n",
    "    \"masters\":masters,\n",
    "    \"grandmasters\":grandmaster,\n",
    "    \"leagues\":leagues\n",
    "}"
   ]
  },
  {
   "cell_type": "code",
   "execution_count": 10,
   "metadata": {},
   "outputs": [],
   "source": [
    "import json\n",
    "from django.conf import settings\n",
    "from os import path"
   ]
  },
  {
   "cell_type": "markdown",
   "metadata": {},
   "source": [
    "### Convierto a json"
   ]
  },
  {
   "cell_type": "code",
   "execution_count": 11,
   "metadata": {
    "scrolled": true
   },
   "outputs": [
    {
     "data": {
      "text/plain": [
       "'/home/facundo/Desktop/Code/projects/lol_app_2/lol_stats_api/preprocess/league_data.json'"
      ]
     },
     "execution_count": 11,
     "metadata": {},
     "output_type": "execute_result"
    }
   ],
   "source": [
    "filename = path.join(settings.PREPROCESS_PATH, \"league_data.json\")\n",
    "filename"
   ]
  },
  {
   "cell_type": "code",
   "execution_count": 17,
   "metadata": {},
   "outputs": [],
   "source": [
    "json_string = json.dumps(complete_data)"
   ]
  },
  {
   "cell_type": "code",
   "execution_count": 20,
   "metadata": {},
   "outputs": [],
   "source": [
    "with open(filename, \"w\") as f:\n",
    "    json.dump(complete_data, f)"
   ]
  },
  {
   "cell_type": "code",
   "execution_count": null,
   "metadata": {},
   "outputs": [],
   "source": []
  },
  {
   "cell_type": "code",
   "execution_count": null,
   "metadata": {},
   "outputs": [],
   "source": []
  },
  {
   "cell_type": "code",
   "execution_count": null,
   "metadata": {},
   "outputs": [],
   "source": []
  }
 ],
 "metadata": {
  "kernelspec": {
   "display_name": "Django Shell-Plus",
   "language": "python",
   "name": "django_extensions"
  },
  "language_info": {
   "codemirror_mode": {
    "name": "ipython",
    "version": 3
   },
   "file_extension": ".py",
   "mimetype": "text/x-python",
   "name": "python",
   "nbconvert_exporter": "python",
   "pygments_lexer": "ipython3",
   "version": "3.7.3"
  }
 },
 "nbformat": 4,
 "nbformat_minor": 4
}
