{
 "cells": [
  {
   "cell_type": "code",
   "execution_count": 25,
   "metadata": {},
   "outputs": [],
   "source": [
    "from api.riot_api_routes import *\n",
    "from api.variables import SERVER_ROUTES, DIVISIONS, TIERS, GAME_TYPE,MAIN_GAMEMODE,RANKED_QUEUES\n",
    "\n",
    "import json\n",
    "from django.conf import settings\n",
    "from os import path\n",
    "import os\n",
    "import random\n",
    "\n",
    "import pandas as pd\n",
    "from time import time\n",
    "\n",
    "league_data_route=path.join(settings.PREPROCESS_PATH, \"league_data.json\")\n",
    "player_sample_route=path.join(settings.PREPROCESS_PATH, \"player_sample.json\")\n"
   ]
  },
  {
   "cell_type": "markdown",
   "metadata": {},
   "source": [
    "## Tomo 10 jugadores random de cada liga de cada server"
   ]
  },
  {
   "cell_type": "code",
   "execution_count": 26,
   "metadata": {},
   "outputs": [
    {
     "name": "stdout",
     "output_type": "stream",
     "text": [
      "dict_keys(['challengers', 'masters', 'grandmasters', 'leagues'])\n"
     ]
    }
   ],
   "source": [
    "if not path.isfile(league_data_route):\n",
    "    print(\"No se encuentra el archivo\")\n",
    "\n",
    "with open(league_data_route, \"r\") as f:\n",
    "    league_data = json.load(f)\n",
    "    \n",
    "print(league_data.keys())"
   ]
  },
  {
   "cell_type": "code",
   "execution_count": 27,
   "metadata": {},
   "outputs": [],
   "source": [
    "import random"
   ]
  },
  {
   "cell_type": "code",
   "execution_count": 31,
   "metadata": {},
   "outputs": [],
   "source": [
    "sample_data={}"
   ]
  },
  {
   "cell_type": "code",
   "execution_count": 32,
   "metadata": {},
   "outputs": [],
   "source": [
    "high_elo_keys = ['challengers','masters','grandmasters']\n",
    "for elo in high_elo_keys:\n",
    "    sample_data[elo]={}\n",
    "    for server, data in league_data[elo].items():\n",
    "        if league_data[elo][server] is None:\n",
    "            continue\n",
    "        sample = 10\n",
    "        if len(league_data[elo][server]['entries']) < sample:\n",
    "            sample = len(league_data[elo][server]['entries'])\n",
    "        if sample == 0:\n",
    "            continue\n",
    "        \n",
    "        sample_data[elo][server]=random.sample(league_data[elo][server]['entries'], sample)\n",
    "\n",
    "sample_data['leagues']={}\n",
    "for server in SERVER_ROUTES.keys():\n",
    "    sample_data['leagues'][server]={}\n",
    "    for tier in TIERS:\n",
    "        sample_data['leagues'][server][tier]={}\n",
    "        for division in DIVISIONS:\n",
    "            sample = 10\n",
    "            total = len(league_data['leagues'][server][tier][division])\n",
    "            if total < sample:\n",
    "                sample = total\n",
    "            if total == 0:\n",
    "                continue\n",
    "            \n",
    "            sample_data['leagues'][server][tier][division]= random.sample(league_data['leagues'][server][tier][division], sample)"
   ]
  },
  {
   "cell_type": "code",
   "execution_count": 37,
   "metadata": {},
   "outputs": [],
   "source": [
    "with open(player_sample_route, \"w\") as f:\n",
    "    json.dump(sample_data, f)"
   ]
  },
  {
   "cell_type": "code",
   "execution_count": null,
   "metadata": {},
   "outputs": [],
   "source": []
  },
  {
   "cell_type": "code",
   "execution_count": null,
   "metadata": {},
   "outputs": [],
   "source": []
  }
 ],
 "metadata": {
  "kernelspec": {
   "display_name": "Django Shell-Plus",
   "language": "python",
   "name": "django_extensions"
  },
  "language_info": {
   "codemirror_mode": {
    "name": "ipython",
    "version": 3
   },
   "file_extension": ".py",
   "mimetype": "text/x-python",
   "name": "python",
   "nbconvert_exporter": "python",
   "pygments_lexer": "ipython3",
   "version": "3.7.3"
  }
 },
 "nbformat": 4,
 "nbformat_minor": 4
}
